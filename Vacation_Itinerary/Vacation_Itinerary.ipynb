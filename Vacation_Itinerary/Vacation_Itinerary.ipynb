{
 "cells": [
  {
   "cell_type": "markdown",
   "metadata": {},
   "source": [
    "## Deliverable 3. Create a Travel Itinerary Map."
   ]
  },
  {
   "cell_type": "code",
   "execution_count": 1,
   "metadata": {},
   "outputs": [],
   "source": [
    "# Dependencies and Setup\n",
    "import pandas as pd\n",
    "import requests\n",
    "import gmaps\n",
    "\n",
    "# Import API key\n",
    "from config import g_key\n",
    "\n",
    "# Configure gmaps\n",
    "gmaps.configure(api_key=g_key)"
   ]
  },
  {
   "cell_type": "code",
   "execution_count": 17,
   "metadata": {},
   "outputs": [
    {
     "data": {
      "text/html": [
       "<div>\n",
       "<style scoped>\n",
       "    .dataframe tbody tr th:only-of-type {\n",
       "        vertical-align: middle;\n",
       "    }\n",
       "\n",
       "    .dataframe tbody tr th {\n",
       "        vertical-align: top;\n",
       "    }\n",
       "\n",
       "    .dataframe thead th {\n",
       "        text-align: right;\n",
       "    }\n",
       "</style>\n",
       "<table border=\"1\" class=\"dataframe\">\n",
       "  <thead>\n",
       "    <tr style=\"text-align: right;\">\n",
       "      <th></th>\n",
       "      <th>City_ID</th>\n",
       "      <th>city</th>\n",
       "      <th>country</th>\n",
       "      <th>max temp</th>\n",
       "      <th>Weather description</th>\n",
       "      <th>lat</th>\n",
       "      <th>lng</th>\n",
       "      <th>Hotel Name</th>\n",
       "    </tr>\n",
       "  </thead>\n",
       "  <tbody>\n",
       "    <tr>\n",
       "      <th>1</th>\n",
       "      <td>5</td>\n",
       "      <td>Cape Town</td>\n",
       "      <td>ZA</td>\n",
       "      <td>50.27</td>\n",
       "      <td>clear sky</td>\n",
       "      <td>-33.9258</td>\n",
       "      <td>18.4232</td>\n",
       "      <td>Southern Sun Waterfront Cape Town</td>\n",
       "    </tr>\n",
       "    <tr>\n",
       "      <th>4</th>\n",
       "      <td>11</td>\n",
       "      <td>Bredasdorp</td>\n",
       "      <td>ZA</td>\n",
       "      <td>51.12</td>\n",
       "      <td>clear sky</td>\n",
       "      <td>-34.5322</td>\n",
       "      <td>20.0403</td>\n",
       "      <td>Bredasdorp Country Manor</td>\n",
       "    </tr>\n",
       "    <tr>\n",
       "      <th>12</th>\n",
       "      <td>27</td>\n",
       "      <td>Swellendam</td>\n",
       "      <td>ZA</td>\n",
       "      <td>50.38</td>\n",
       "      <td>clear sky</td>\n",
       "      <td>-34.0226</td>\n",
       "      <td>20.4417</td>\n",
       "      <td>De Kloof Luxury Estate boutique Hotel &amp; SPA</td>\n",
       "    </tr>\n",
       "    <tr>\n",
       "      <th>19</th>\n",
       "      <td>46</td>\n",
       "      <td>Port Alfred</td>\n",
       "      <td>ZA</td>\n",
       "      <td>53.26</td>\n",
       "      <td>light rain</td>\n",
       "      <td>-33.5906</td>\n",
       "      <td>26.8910</td>\n",
       "      <td>The Halyards Hotel</td>\n",
       "    </tr>\n",
       "    <tr>\n",
       "      <th>47</th>\n",
       "      <td>110</td>\n",
       "      <td>Saldanha</td>\n",
       "      <td>ZA</td>\n",
       "      <td>50.54</td>\n",
       "      <td>clear sky</td>\n",
       "      <td>-33.0117</td>\n",
       "      <td>17.9442</td>\n",
       "      <td>Blue Bay Lodge</td>\n",
       "    </tr>\n",
       "    <tr>\n",
       "      <th>50</th>\n",
       "      <td>120</td>\n",
       "      <td>East London</td>\n",
       "      <td>ZA</td>\n",
       "      <td>53.35</td>\n",
       "      <td>light rain</td>\n",
       "      <td>-33.0153</td>\n",
       "      <td>27.9116</td>\n",
       "      <td>Tu Casa</td>\n",
       "    </tr>\n",
       "    <tr>\n",
       "      <th>137</th>\n",
       "      <td>315</td>\n",
       "      <td>Richards Bay</td>\n",
       "      <td>ZA</td>\n",
       "      <td>60.49</td>\n",
       "      <td>light rain</td>\n",
       "      <td>-28.7830</td>\n",
       "      <td>32.0377</td>\n",
       "      <td>BON Hotel Waterfront Richards Bay</td>\n",
       "    </tr>\n",
       "  </tbody>\n",
       "</table>\n",
       "</div>"
      ],
      "text/plain": [
       "     City_ID          city country  max temp Weather description      lat  \\\n",
       "1          5     Cape Town      ZA     50.27           clear sky -33.9258   \n",
       "4         11    Bredasdorp      ZA     51.12           clear sky -34.5322   \n",
       "12        27    Swellendam      ZA     50.38           clear sky -34.0226   \n",
       "19        46   Port Alfred      ZA     53.26          light rain -33.5906   \n",
       "47       110      Saldanha      ZA     50.54           clear sky -33.0117   \n",
       "50       120   East London      ZA     53.35          light rain -33.0153   \n",
       "137      315  Richards Bay      ZA     60.49          light rain -28.7830   \n",
       "\n",
       "         lng                                   Hotel Name  \n",
       "1    18.4232            Southern Sun Waterfront Cape Town  \n",
       "4    20.0403                     Bredasdorp Country Manor  \n",
       "12   20.4417  De Kloof Luxury Estate boutique Hotel & SPA  \n",
       "19   26.8910                           The Halyards Hotel  \n",
       "47   17.9442                               Blue Bay Lodge  \n",
       "50   27.9116                                      Tu Casa  \n",
       "137  32.0377            BON Hotel Waterfront Richards Bay  "
      ]
     },
     "execution_count": 17,
     "metadata": {},
     "output_type": "execute_result"
    }
   ],
   "source": [
    "# 1. Read the WeatherPy_vacation.csv into a DataFrame.\n",
    "vacation_df = pd.read_csv(\"../Vacation_Search/WeatherPy_vacation.csv\")\n",
    "vacation_df.loc[vacation_df[\"country\"]==\"ZA\"]"
   ]
  },
  {
   "cell_type": "code",
   "execution_count": 7,
   "metadata": {},
   "outputs": [],
   "source": [
    "# 2. Using the template add the city name, the country code, the weather description and maximum temperature for the city.\n",
    "info_box_template = \"\"\"\n",
    "<dl>\n",
    "<dt>City</dt><dd>{city}</dd>\n",
    "<dt>Country Code</dt><dd>{country}</dd>\n",
    "<dt>Weather Description</dt><dd>{Weather description}</dd>\n",
    "<dt>Max Temp</dt><dd>{max temp} °F</dd>\n",
    "</dl>\n",
    "\"\"\"\n",
    "\n",
    "# 3a. Get the data from each row and add it to the formatting template and store the data in a list.\n",
    "hotel_info = [info_box_template.format(**row) for index, row in vacation_df.iterrows()]\n",
    "\n",
    "# 3b. Get the latitude and longitude from each row and store in a new DataFrame.\n",
    "locations = vacation_df[[\"lat\", \"lng\"]]"
   ]
  },
  {
   "cell_type": "code",
   "execution_count": 8,
   "metadata": {},
   "outputs": [
    {
     "data": {
      "application/vnd.jupyter.widget-view+json": {
       "model_id": "7fca63fc013a4903bbeeb78c39444d83",
       "version_major": 2,
       "version_minor": 0
      },
      "text/plain": [
       "Figure(layout=FigureLayout(height='420px'))"
      ]
     },
     "metadata": {},
     "output_type": "display_data"
    }
   ],
   "source": [
    "# 4a. Add a marker layer for each city to the map.\n",
    "fig = gmaps.figure(center=(30.0, 31.0), zoom_level=1.5)\n",
    "\n",
    "\n",
    "marker_layer = gmaps.marker_layer(locations, info_box_content=hotel_info)\n",
    "fig.add_layer(marker_layer)\n",
    "# 4b. Display the figure\n",
    "fig\n"
   ]
  },
  {
   "cell_type": "code",
   "execution_count": 18,
   "metadata": {},
   "outputs": [
    {
     "data": {
      "text/html": [
       "<div>\n",
       "<style scoped>\n",
       "    .dataframe tbody tr th:only-of-type {\n",
       "        vertical-align: middle;\n",
       "    }\n",
       "\n",
       "    .dataframe tbody tr th {\n",
       "        vertical-align: top;\n",
       "    }\n",
       "\n",
       "    .dataframe thead th {\n",
       "        text-align: right;\n",
       "    }\n",
       "</style>\n",
       "<table border=\"1\" class=\"dataframe\">\n",
       "  <thead>\n",
       "    <tr style=\"text-align: right;\">\n",
       "      <th></th>\n",
       "      <th>City_ID</th>\n",
       "      <th>city</th>\n",
       "      <th>country</th>\n",
       "      <th>max temp</th>\n",
       "      <th>Weather description</th>\n",
       "      <th>lat</th>\n",
       "      <th>lng</th>\n",
       "      <th>Hotel Name</th>\n",
       "    </tr>\n",
       "  </thead>\n",
       "  <tbody>\n",
       "    <tr>\n",
       "      <th>19</th>\n",
       "      <td>46</td>\n",
       "      <td>Port Alfred</td>\n",
       "      <td>ZA</td>\n",
       "      <td>53.26</td>\n",
       "      <td>light rain</td>\n",
       "      <td>-33.5906</td>\n",
       "      <td>26.891</td>\n",
       "      <td>The Halyards Hotel</td>\n",
       "    </tr>\n",
       "  </tbody>\n",
       "</table>\n",
       "</div>"
      ],
      "text/plain": [
       "    City_ID         city country  max temp Weather description      lat  \\\n",
       "19       46  Port Alfred      ZA     53.26          light rain -33.5906   \n",
       "\n",
       "       lng          Hotel Name  \n",
       "19  26.891  The Halyards Hotel  "
      ]
     },
     "execution_count": 18,
     "metadata": {},
     "output_type": "execute_result"
    }
   ],
   "source": [
    "# From the map above pick 4 cities and create a vacation itinerary route to travel between the four cities. \n",
    "# 5. Create DataFrames for each city by filtering the 'vacation_df' using the loc method. \n",
    "# Hint: The starting and ending city should be the same city.\n",
    "\n",
    "vacation_start = vacation_df.loc[vacation_df[\"city\"]==\"Cape Town\"]\n",
    "vacation_end = vacation_df.loc[vacation_df[\"city\"]==\"Cape Town\"]\n",
    "vacation_stop1 = vacation_df.loc[vacation_df[\"city\"]==\"Bredasdorp\"]\n",
    "vacation_stop2 = vacation_df.loc[vacation_df[\"city\"]==\"Swellendam\"] \n",
    "vacation_stop3 = vacation_df.loc[vacation_df[\"city\"]==\"Port Alfred\"] \n",
    "vacation_stop3"
   ]
  },
  {
   "cell_type": "code",
   "execution_count": 32,
   "metadata": {},
   "outputs": [
    {
     "data": {
      "text/plain": [
       "(-33.9258, 18.4232)"
      ]
     },
     "execution_count": 32,
     "metadata": {},
     "output_type": "execute_result"
    }
   ],
   "source": [
    "start = vacation_start[[\"lat\",\"lng\"]].to_numpy()\n",
    "start=(start[0][0],start[0][1])\n",
    "start"
   ]
  },
  {
   "cell_type": "code",
   "execution_count": 36,
   "metadata": {},
   "outputs": [
    {
     "data": {
      "text/plain": [
       "(-33.5906, 26.891)"
      ]
     },
     "execution_count": 36,
     "metadata": {},
     "output_type": "execute_result"
    }
   ],
   "source": [
    "# 6. Get the latitude-longitude pairs as tuples from each city DataFrame using the to_numpy function and list indexing.\n",
    "start=vacation_start[[\"lat\",\"lng\"]].to_numpy()\n",
    "start=(start[0][0],start[0][1])\n",
    "end =vacation_end[[\"lat\",\"lng\"]].to_numpy()\n",
    "end=(end[0][0],end[0][1])\n",
    "stop1 =vacation_stop1[[\"lat\",\"lng\"]].to_numpy()\n",
    "stop1=(stop1[0][0],stop1[0][1])\n",
    "stop2 =vacation_stop2[[\"lat\",\"lng\"]].to_numpy()\n",
    "stop2=(stop2[0][0],stop2[0][1])\n",
    "stop3 =vacation_stop3[[\"lat\",\"lng\"]].to_numpy()\n",
    "stop3=(stop3[0][0],stop3[0][1])\n",
    "stop3"
   ]
  },
  {
   "cell_type": "code",
   "execution_count": 44,
   "metadata": {
    "scrolled": false
   },
   "outputs": [
    {
     "data": {
      "application/vnd.jupyter.widget-view+json": {
       "model_id": "377a5c416e8f4b30ade66f788853449d",
       "version_major": 2,
       "version_minor": 0
      },
      "text/plain": [
       "Figure(layout=FigureLayout(height='420px'))"
      ]
     },
     "metadata": {},
     "output_type": "display_data"
    }
   ],
   "source": [
    "# 7. Create a direction layer map using the start and end latitude-longitude pairs,\n",
    "# and stop1, stop2, and stop3 as the waypoints. The travel_mode should be \"DRIVING\", \"BICYCLING\", or \"WALKING\".\n",
    "fig = gmaps.figure()\n",
    "direction = gmaps.directions_layer(\n",
    "        start, end, waypoints=[stop1,stop2,stop3],\n",
    "        travel_mode='DRIVING',stroke_color='red', stroke_weight=3.0)\n",
    "fig.add_layer(direction)\n",
    "\n",
    "fig\n"
   ]
  },
  {
   "cell_type": "code",
   "execution_count": 45,
   "metadata": {},
   "outputs": [
    {
     "data": {
      "text/html": [
       "<div>\n",
       "<style scoped>\n",
       "    .dataframe tbody tr th:only-of-type {\n",
       "        vertical-align: middle;\n",
       "    }\n",
       "\n",
       "    .dataframe tbody tr th {\n",
       "        vertical-align: top;\n",
       "    }\n",
       "\n",
       "    .dataframe thead th {\n",
       "        text-align: right;\n",
       "    }\n",
       "</style>\n",
       "<table border=\"1\" class=\"dataframe\">\n",
       "  <thead>\n",
       "    <tr style=\"text-align: right;\">\n",
       "      <th></th>\n",
       "      <th>City_ID</th>\n",
       "      <th>city</th>\n",
       "      <th>country</th>\n",
       "      <th>max temp</th>\n",
       "      <th>Weather description</th>\n",
       "      <th>lat</th>\n",
       "      <th>lng</th>\n",
       "      <th>Hotel Name</th>\n",
       "    </tr>\n",
       "  </thead>\n",
       "  <tbody>\n",
       "    <tr>\n",
       "      <th>0</th>\n",
       "      <td>5</td>\n",
       "      <td>Cape Town</td>\n",
       "      <td>ZA</td>\n",
       "      <td>50.27</td>\n",
       "      <td>clear sky</td>\n",
       "      <td>-33.9258</td>\n",
       "      <td>18.4232</td>\n",
       "      <td>Southern Sun Waterfront Cape Town</td>\n",
       "    </tr>\n",
       "    <tr>\n",
       "      <th>1</th>\n",
       "      <td>5</td>\n",
       "      <td>Cape Town</td>\n",
       "      <td>ZA</td>\n",
       "      <td>50.27</td>\n",
       "      <td>clear sky</td>\n",
       "      <td>-33.9258</td>\n",
       "      <td>18.4232</td>\n",
       "      <td>Southern Sun Waterfront Cape Town</td>\n",
       "    </tr>\n",
       "    <tr>\n",
       "      <th>2</th>\n",
       "      <td>11</td>\n",
       "      <td>Bredasdorp</td>\n",
       "      <td>ZA</td>\n",
       "      <td>51.12</td>\n",
       "      <td>clear sky</td>\n",
       "      <td>-34.5322</td>\n",
       "      <td>20.0403</td>\n",
       "      <td>Bredasdorp Country Manor</td>\n",
       "    </tr>\n",
       "    <tr>\n",
       "      <th>3</th>\n",
       "      <td>27</td>\n",
       "      <td>Swellendam</td>\n",
       "      <td>ZA</td>\n",
       "      <td>50.38</td>\n",
       "      <td>clear sky</td>\n",
       "      <td>-34.0226</td>\n",
       "      <td>20.4417</td>\n",
       "      <td>De Kloof Luxury Estate boutique Hotel &amp; SPA</td>\n",
       "    </tr>\n",
       "    <tr>\n",
       "      <th>4</th>\n",
       "      <td>46</td>\n",
       "      <td>Port Alfred</td>\n",
       "      <td>ZA</td>\n",
       "      <td>53.26</td>\n",
       "      <td>light rain</td>\n",
       "      <td>-33.5906</td>\n",
       "      <td>26.8910</td>\n",
       "      <td>The Halyards Hotel</td>\n",
       "    </tr>\n",
       "  </tbody>\n",
       "</table>\n",
       "</div>"
      ],
      "text/plain": [
       "   City_ID         city country  max temp Weather description      lat  \\\n",
       "0        5    Cape Town      ZA     50.27           clear sky -33.9258   \n",
       "1        5    Cape Town      ZA     50.27           clear sky -33.9258   \n",
       "2       11   Bredasdorp      ZA     51.12           clear sky -34.5322   \n",
       "3       27   Swellendam      ZA     50.38           clear sky -34.0226   \n",
       "4       46  Port Alfred      ZA     53.26          light rain -33.5906   \n",
       "\n",
       "       lng                                   Hotel Name  \n",
       "0  18.4232            Southern Sun Waterfront Cape Town  \n",
       "1  18.4232            Southern Sun Waterfront Cape Town  \n",
       "2  20.0403                     Bredasdorp Country Manor  \n",
       "3  20.4417  De Kloof Luxury Estate boutique Hotel & SPA  \n",
       "4  26.8910                           The Halyards Hotel  "
      ]
     },
     "execution_count": 45,
     "metadata": {},
     "output_type": "execute_result"
    }
   ],
   "source": [
    "# 8. To create a marker layer map between the four cities.\n",
    "#  Combine the four city DataFrames into one DataFrame using the concat() function.\n",
    "itinerary_df = pd.concat([vacation_start,vacation_end,vacation_stop1,vacation_stop2,vacation_stop3],ignore_index=True)\n",
    "itinerary_df"
   ]
  },
  {
   "cell_type": "code",
   "execution_count": 47,
   "metadata": {},
   "outputs": [],
   "source": [
    "# 9 Using the template add city name, the country code, the weather description and maximum temperature for the city. \n",
    "info_box_template = \"\"\"\n",
    "<dt>City</dt><dd>{city}</dd>\n",
    "<dt>Country Code</dt><dd>{country}</dd>\n",
    "<dt>Weather Description</dt><dd>{Weather description}</dd>\n",
    "<dt>Max Temp</dt><dd>{max temp} °F</dd>\n",
    "</dl>\n",
    "\"\"\"\n",
    "\n",
    "# 10a Get the data from each row and add it to the formatting template and store the data in a list.\n",
    "hotel_info = [info_box_template.format(**row) for index, row in itinerary_df.iterrows()]\n",
    "\n",
    "# 10b. Get the latitude and longitude from each row and store in a new DataFrame.\n",
    "locations = itinerary_df[[\"lat\", \"lng\"]]"
   ]
  },
  {
   "cell_type": "code",
   "execution_count": 50,
   "metadata": {},
   "outputs": [
    {
     "data": {
      "application/vnd.jupyter.widget-view+json": {
       "model_id": "7ef0c719cfeb43e28f44d8320312ebae",
       "version_major": 2,
       "version_minor": 0
      },
      "text/plain": [
       "Figure(layout=FigureLayout(height='420px'))"
      ]
     },
     "metadata": {},
     "output_type": "display_data"
    }
   ],
   "source": [
    "# 11a. Add a marker layer for each city to the map.\n",
    "fig = gmaps.figure(center=(30.0, 31.0), zoom_level=1.5)\n",
    "marker_layer=gmaps.marker_layer(locations,info_box_content=hotel_info)\n",
    "fig.add_layer(marker_layer)\n",
    "direction = gmaps.directions_layer(\n",
    "        start, end, waypoints=[stop1,stop2,stop3],\n",
    "        travel_mode='DRIVING',stroke_color='red', stroke_weight=3.0)\n",
    "fig.add_layer(direction)\n",
    "# 11b. Display the figure\n",
    "fig"
   ]
  },
  {
   "cell_type": "code",
   "execution_count": null,
   "metadata": {},
   "outputs": [],
   "source": []
  }
 ],
 "metadata": {
  "kernelspec": {
   "display_name": "PythonData",
   "language": "python",
   "name": "pythondata"
  },
  "language_info": {
   "codemirror_mode": {
    "name": "ipython",
    "version": 3
   },
   "file_extension": ".py",
   "mimetype": "text/x-python",
   "name": "python",
   "nbconvert_exporter": "python",
   "pygments_lexer": "ipython3",
   "version": "3.7.10"
  },
  "latex_envs": {
   "LaTeX_envs_menu_present": true,
   "autoclose": false,
   "autocomplete": true,
   "bibliofile": "biblio.bib",
   "cite_by": "apalike",
   "current_citInitial": 1,
   "eqLabelWithNumbers": true,
   "eqNumInitial": 1,
   "hotkeys": {
    "equation": "Ctrl-E",
    "itemize": "Ctrl-I"
   },
   "labels_anchors": false,
   "latex_user_defs": false,
   "report_style_numbering": false,
   "user_envs_cfg": false
  }
 },
 "nbformat": 4,
 "nbformat_minor": 2
}
