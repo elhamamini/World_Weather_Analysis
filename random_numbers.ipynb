{
 "cells": [
  {
   "cell_type": "code",
   "execution_count": 14,
   "id": "986031aa",
   "metadata": {},
   "outputs": [],
   "source": [
    "import random\n",
    "import numpy as np\n",
    "import timeit"
   ]
  },
  {
   "cell_type": "code",
   "execution_count": 3,
   "id": "621c9b55",
   "metadata": {},
   "outputs": [
    {
     "data": {
      "text/plain": [
       "3"
      ]
     },
     "execution_count": 3,
     "metadata": {},
     "output_type": "execute_result"
    }
   ],
   "source": [
    "random.randint(-9,9)"
   ]
  },
  {
   "cell_type": "code",
   "execution_count": 8,
   "id": "b22fd900",
   "metadata": {},
   "outputs": [
    {
     "name": "stdout",
     "output_type": "stream",
     "text": [
      "-23.924696574882354\n",
      "-17.382139963172456\n",
      "12.497973721062126\n",
      "43.232139507424236\n",
      "53.43340075217903\n",
      "-34.758231597843285\n",
      "-17.767390482334896\n",
      "-37.14383857911973\n",
      "-21.40922479130703\n",
      "46.73327152467706\n"
     ]
    }
   ],
   "source": [
    "x=1\n",
    "lattitude=[]\n",
    "while x<11 :\n",
    "    lat=random.random()+random.randint(-90,89)\n",
    "    print(lat)\n",
    "    lattitude.append(lat)\n",
    "    x+=1"
   ]
  },
  {
   "cell_type": "code",
   "execution_count": 9,
   "id": "33013b89",
   "metadata": {},
   "outputs": [
    {
     "data": {
      "text/plain": [
       "[-23.924696574882354,\n",
       " -17.382139963172456,\n",
       " 12.497973721062126,\n",
       " 43.232139507424236,\n",
       " 53.43340075217903,\n",
       " -34.758231597843285,\n",
       " -17.767390482334896,\n",
       " -37.14383857911973,\n",
       " -21.40922479130703,\n",
       " 46.73327152467706]"
      ]
     },
     "execution_count": 9,
     "metadata": {},
     "output_type": "execute_result"
    }
   ],
   "source": [
    "lattitude\n",
    "#lattitude are between -90,90"
   ]
  },
  {
   "cell_type": "code",
   "execution_count": 11,
   "id": "3c24041b",
   "metadata": {},
   "outputs": [
    {
     "name": "stdout",
     "output_type": "stream",
     "text": [
      "-151.67250509762226\n",
      "97.38131747590135\n",
      "27.448405256233844\n",
      "43.19807129559333\n",
      "170.4776050605371\n",
      "-134.39267703591383\n",
      "-171.21724432391431\n",
      "166.87995845893218\n",
      "137.69349473239845\n",
      "36.7641193304705\n"
     ]
    }
   ],
   "source": [
    "x=1\n",
    "longitudes=[]\n",
    "while x<11 :\n",
    "    lat=random.random()+random.randint(-180,180)\n",
    "    print(lat)\n",
    "    longitudes.append(lat)\n",
    "    x+=1"
   ]
  },
  {
   "cell_type": "code",
   "execution_count": 13,
   "id": "ad21b441",
   "metadata": {},
   "outputs": [
    {
     "data": {
      "text/plain": [
       "array([ 79.66583278,   9.30486223,  17.24976529,  29.97463551,\n",
       "       -26.85283626,  40.19703067,  42.91478931,  10.33617739,\n",
       "        39.70245127,  88.83803548])"
      ]
     },
     "execution_count": 13,
     "metadata": {},
     "output_type": "execute_result"
    }
   ],
   "source": [
    "np.random.uniform(-90.000,90.000,size=10)"
   ]
  },
  {
   "cell_type": "code",
   "execution_count": 15,
   "id": "eacd2994",
   "metadata": {},
   "outputs": [
    {
     "name": "stdout",
     "output_type": "stream",
     "text": [
      "12.6 µs ± 62.6 ns per loop (mean ± std. dev. of 7 runs, 100000 loops each)\n"
     ]
    }
   ],
   "source": [
    "%timeit np.random.uniform(-90.000, 90.000, size=1500)"
   ]
  },
  {
   "cell_type": "code",
   "execution_count": null,
   "id": "24775387",
   "metadata": {},
   "outputs": [],
   "source": []
  }
 ],
 "metadata": {
  "kernelspec": {
   "display_name": "PythonData",
   "language": "python",
   "name": "pythondata"
  },
  "language_info": {
   "codemirror_mode": {
    "name": "ipython",
    "version": 3
   },
   "file_extension": ".py",
   "mimetype": "text/x-python",
   "name": "python",
   "nbconvert_exporter": "python",
   "pygments_lexer": "ipython3",
   "version": "3.7.10"
  }
 },
 "nbformat": 4,
 "nbformat_minor": 5
}
